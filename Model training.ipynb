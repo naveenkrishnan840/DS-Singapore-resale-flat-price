{
 "cells": [
  {
   "cell_type": "code",
   "execution_count": 7,
   "metadata": {},
   "outputs": [],
   "source": [
    "from sklearn.preprocessing import StandardScaler\n",
    "from sklearn.model_selection import train_test_split, RandomizedSearchCV, KFold\n",
    "import mlflow\n",
    "from mlflow.models import infer_signature\n",
    "import dagshub\n",
    "from sklearn.metrics import mean_absolute_error, mean_squared_error, r2_score, root_mean_squared_error\n",
    "from sklearn.ensemble import HistGradientBoostingRegressor\n",
    "import pandas as pd\n",
    "import numpy as np"
   ]
  },
  {
   "cell_type": "code",
   "execution_count": null,
   "metadata": {},
   "outputs": [],
   "source": [
    "training_data = pd.read_csv(\"./regression/training_data.csv\")\n",
    "tresting_data = pd.read_csv(\"./regression/tresting_data.csv\")"
   ]
  },
  {
   "cell_type": "code",
   "execution_count": null,
   "metadata": {},
   "outputs": [],
   "source": [
    "X_train = training_data.drop(labels=[\"resale_price\"], axis=1)\n",
    "y_train = training_data[\"resale_price\"]\n",
    "X_test = tresting_data.drop(labels=[\"resale_price\"], axis=1)\n",
    "y_test = tresting_data[\"resale_price\"]"
   ]
  },
  {
   "cell_type": "code",
   "execution_count": 39,
   "metadata": {},
   "outputs": [
    {
     "data": {
      "text/html": [
       "<pre style=\"white-space:pre;overflow-x:auto;line-height:normal;font-family:Menlo,'DejaVu Sans Mono',consolas,'Courier New',monospace\">Initialized MLflow to track repo <span style=\"color: #008000; text-decoration-color: #008000\">\"naveenkrishnan840/DS-Singapore-resale-flat-price\"</span>\n",
       "</pre>\n"
      ],
      "text/plain": [
       "Initialized MLflow to track repo \u001b[32m\"naveenkrishnan840/DS-Singapore-resale-flat-price\"\u001b[0m\n"
      ]
     },
     "metadata": {},
     "output_type": "display_data"
    },
    {
     "data": {
      "text/html": [
       "<pre style=\"white-space:pre;overflow-x:auto;line-height:normal;font-family:Menlo,'DejaVu Sans Mono',consolas,'Courier New',monospace\">Repository naveenkrishnan840/DS-Singapore-resale-flat-price initialized!\n",
       "</pre>\n"
      ],
      "text/plain": [
       "Repository naveenkrishnan840/DS-Singapore-resale-flat-price initialized!\n"
      ]
     },
     "metadata": {},
     "output_type": "display_data"
    }
   ],
   "source": [
    "dagshub.init(repo_owner='naveenkrishnan840', repo_name='DS-Singapore-resale-flat-price', mlflow=True)"
   ]
  },
  {
   "cell_type": "code",
   "execution_count": 40,
   "metadata": {},
   "outputs": [
    {
     "data": {
      "text/plain": [
       "<Experiment: artifact_location='mlflow-artifacts:/74fe181eba6641f6b5b9dccf6ffb5402', creation_time=1727205859782, experiment_id='0', last_update_time=1727205859782, lifecycle_stage='active', name='Regression-Task', tags={}>"
      ]
     },
     "execution_count": 40,
     "metadata": {},
     "output_type": "execute_result"
    }
   ],
   "source": [
    "mlflow.set_experiment(experiment_id=\"0\")"
   ]
  },
  {
   "cell_type": "code",
   "execution_count": 19,
   "metadata": {},
   "outputs": [
    {
     "data": {
      "text/plain": [
       "'https://dagshub.com/naveenkrishnan840/DS-Singapore-resale-flat-price.mlflow'"
      ]
     },
     "execution_count": 19,
     "metadata": {},
     "output_type": "execute_result"
    }
   ],
   "source": [
    "mlflow.get_tracking_uri()"
   ]
  },
  {
   "cell_type": "code",
   "execution_count": 20,
   "metadata": {},
   "outputs": [],
   "source": [
    "HistGradientBoostingRegressorParams = {\n",
    "    \"loss\": [\"quantile\"],\n",
    "    \"quantile\": [0.1, 0.2, 0.3, 0.4, 0.5],\n",
    "    \"max_iter\": [5000, 6000, 7000],\n",
    "    \"learning_rate\": [0.1, 0.2, 0.3, 0.4, 0.5, 0.6],\n",
    "    \"max_leaf_nodes\": [25, 50, 75],\n",
    "    \"max_depth\": list(range(28, 32)),\n",
    "    \"min_samples_leaf\": [64, 128, 256, 512],\n",
    "    \"l2_regularization\": [0.1, 0.2, 0.3, 0.4, 0.5],\n",
    "    \"max_bins\": [100, 150, 255],\n",
    "    \"interaction_cst\": [\"pairwise\", \"no_interactions\"],\n",
    "    \"random_state\": list(range(10, 50))\n",
    "}"
   ]
  },
  {
   "cell_type": "code",
   "execution_count": 21,
   "metadata": {},
   "outputs": [
    {
     "name": "stderr",
     "output_type": "stream",
     "text": [
      "2024/09/26 23:55:39 WARNING mlflow.utils.autologging_utils: MLflow sklearn autologging is known to be compatible with 0.24.1 <= scikit-learn <= 1.5.1, but the installed version is 1.5.2. If you encounter errors during autologging, try upgrading / downgrading scikit-learn to a compatible version, or try upgrading MLflow.\n"
     ]
    },
    {
     "name": "stdout",
     "output_type": "stream",
     "text": [
      "\u001b[34mSystem information\u001b[0m: Windows 10.0.22631\n",
      "\u001b[34mPython version\u001b[0m: 3.12.5\n",
      "\u001b[34mMLflow version\u001b[0m: 2.16.2\n",
      "\u001b[34mMLflow module location\u001b[0m: C:\\Users\\NavaneethanJeyapraka\\AppData\\Roaming\\Python\\Python312\\site-packages\\mlflow\\__init__.py\n",
      "\u001b[34mTracking URI\u001b[0m: https://dagshub.com/naveenkrishnan840/DS-Singapore-resale-flat-price.mlflow\n",
      "\u001b[34mRegistry URI\u001b[0m: https://dagshub.com/naveenkrishnan840/DS-Singapore-resale-flat-price.mlflow\n",
      "\u001b[34mActive experiment ID\u001b[0m: 0\n",
      "\u001b[34mActive run ID\u001b[0m: eba3768c6ccc4a4fbda8d75dc4f4cfe8\n",
      "\u001b[34mActive run artifact URI\u001b[0m: mlflow-artifacts:/74fe181eba6641f6b5b9dccf6ffb5402/eba3768c6ccc4a4fbda8d75dc4f4cfe8/artifacts\n",
      "\u001b[34mMLflow environment variables\u001b[0m: \n",
      "  MLFLOW_TRACKING_PASSWORD: 6602c43190bbbd93140e6846d47f88777f01baae\n",
      "  MLFLOW_TRACKING_URI: https://dagshub.com/naveenkrishnan840/DS-Singapore-resale-flat-price.mlflow\n",
      "  MLFLOW_TRACKING_USERNAME: 6602c43190bbbd93140e6846d47f88777f01baae\n",
      "\u001b[34mMLflow dependencies\u001b[0m: \n",
      "  Flask: 3.0.3\n",
      "  Jinja2: 3.1.4\n",
      "  alembic: 1.13.2\n",
      "  boto3: 1.35.19\n",
      "  botocore: 1.35.19\n",
      "  docker: 7.1.0\n",
      "  graphene: 3.3\n",
      "  markdown: 3.7\n",
      "  matplotlib: 3.9.2\n",
      "  mlflow-skinny: 2.16.2\n",
      "  numpy: 1.26.4\n",
      "  pandas: 2.2.3\n",
      "  pyarrow: 17.0.0\n",
      "  pydantic: 2.9.1\n",
      "  scikit-learn: 1.5.2\n",
      "  scipy: 1.13.1\n",
      "  sqlalchemy: 2.0.34\n",
      "  waitress: 3.0.0\n",
      "Fitting 20 folds for each of 30 candidates, totalling 600 fits\n"
     ]
    },
    {
     "name": "stderr",
     "output_type": "stream",
     "text": [
      "2024/09/27 00:45:27 INFO mlflow.sklearn.utils: Logging the 5 best runs, 25 runs will be omitted.\n",
      "2024/09/27 00:45:29 INFO mlflow.tracking._tracking_service.client: 🏃 View run sassy-stag-29 at: https://dagshub.com/naveenkrishnan840/DS-Singapore-resale-flat-price.mlflow/#/experiments/0/runs/d953da96050d4bfaabac989503cbe686.\n",
      "2024/09/27 00:45:29 INFO mlflow.tracking._tracking_service.client: 🧪 View experiment at: https://dagshub.com/naveenkrishnan840/DS-Singapore-resale-flat-price.mlflow/#/experiments/0.\n",
      "2024/09/27 00:45:29 INFO mlflow.tracking._tracking_service.client: 🏃 View run whimsical-gnu-22 at: https://dagshub.com/naveenkrishnan840/DS-Singapore-resale-flat-price.mlflow/#/experiments/0/runs/e066333cfa0448e19663a9d04233f254.\n",
      "2024/09/27 00:45:29 INFO mlflow.tracking._tracking_service.client: 🧪 View experiment at: https://dagshub.com/naveenkrishnan840/DS-Singapore-resale-flat-price.mlflow/#/experiments/0.\n",
      "2024/09/27 00:45:29 INFO mlflow.tracking._tracking_service.client: 🏃 View run languid-ray-447 at: https://dagshub.com/naveenkrishnan840/DS-Singapore-resale-flat-price.mlflow/#/experiments/0/runs/fe36df88c9c6414e808c8f8e09e33a21.\n",
      "2024/09/27 00:45:29 INFO mlflow.tracking._tracking_service.client: 🧪 View experiment at: https://dagshub.com/naveenkrishnan840/DS-Singapore-resale-flat-price.mlflow/#/experiments/0.\n",
      "2024/09/27 00:45:29 INFO mlflow.tracking._tracking_service.client: 🏃 View run silent-shrike-28 at: https://dagshub.com/naveenkrishnan840/DS-Singapore-resale-flat-price.mlflow/#/experiments/0/runs/b3286afb4d7f491a991dff217f139088.\n",
      "2024/09/27 00:45:29 INFO mlflow.tracking._tracking_service.client: 🧪 View experiment at: https://dagshub.com/naveenkrishnan840/DS-Singapore-resale-flat-price.mlflow/#/experiments/0.\n",
      "2024/09/27 00:45:29 INFO mlflow.tracking._tracking_service.client: 🏃 View run carefree-wren-173 at: https://dagshub.com/naveenkrishnan840/DS-Singapore-resale-flat-price.mlflow/#/experiments/0/runs/f66953503407482f8617a41c859fc76c.\n",
      "2024/09/27 00:45:29 INFO mlflow.tracking._tracking_service.client: 🧪 View experiment at: https://dagshub.com/naveenkrishnan840/DS-Singapore-resale-flat-price.mlflow/#/experiments/0.\n",
      "Registered model 'Regression-Task' already exists. Creating a new version of this model...\n",
      "2024/09/27 00:50:36 INFO mlflow.store.model_registry.abstract_store: Waiting up to 300 seconds for model version to finish creation. Model name: Regression-Task, version 2\n",
      "Created version '2' of model 'Regression-Task'.\n"
     ]
    },
    {
     "data": {
      "application/vnd.jupyter.widget-view+json": {
       "model_id": "36d91b64659a4e7b94eadf50e73c4739",
       "version_major": 2,
       "version_minor": 0
      },
      "text/plain": [
       "Downloading artifacts:   0%|          | 0/7 [00:00<?, ?it/s]"
      ]
     },
     "metadata": {},
     "output_type": "display_data"
    },
    {
     "name": "stderr",
     "output_type": "stream",
     "text": [
      "2024/09/27 00:51:22 INFO mlflow.tracking._tracking_service.client: 🏃 View run HistGradientBoostingRegressor-2 at: https://dagshub.com/naveenkrishnan840/DS-Singapore-resale-flat-price.mlflow/#/experiments/0/runs/eba3768c6ccc4a4fbda8d75dc4f4cfe8.\n",
      "2024/09/27 00:51:22 INFO mlflow.tracking._tracking_service.client: 🧪 View experiment at: https://dagshub.com/naveenkrishnan840/DS-Singapore-resale-flat-price.mlflow/#/experiments/0.\n"
     ]
    }
   ],
   "source": [
    "with mlflow.start_run(experiment_id=\"0\", run_name=\"HistGradientBoostingRegressor-2\") as run_2:\n",
    "    mlflow.sklearn.autolog()\n",
    "    mlflow.doctor()\n",
    "    histgradientboostingregressorcv = RandomizedSearchCV(estimator=HistGradientBoostingRegressor(), \n",
    "                                                            param_distributions=HistGradientBoostingRegressorParams, \n",
    "                                    cv=KFold(n_splits=20, shuffle=True, random_state=None), n_iter=30, \n",
    "                                    verbose=3, n_jobs=-1)\n",
    "    histgradientboostingregressorcv.fit(X_train, y_train)\n",
    "    y_pred = histgradientboostingregressorcv.predict(X_test)\n",
    "    mlflow.log_metric(\"testing_mean_squared_error\", mean_squared_error(y_true=y_test, y_pred=y_pred))\n",
    "    mlflow.log_metric(\"testing_mean_absolute_error\", mean_absolute_error(y_true=y_test, y_pred=y_pred))\n",
    "    mlflow.log_metric(\"testing_root_mean_squared_error\", root_mean_squared_error(y_true=y_test, y_pred=y_pred))\n",
    "    mlflow.log_metric(\"testing_r2_score\", r2_score(y_true=y_test, y_pred=y_pred))\n",
    "\n",
    "    signature = infer_signature(X_test, y_pred)\n",
    "\n",
    "    # # Log the model\n",
    "    model_info = mlflow.sklearn.log_model(\n",
    "        sk_model=histgradientboostingregressorcv,\n",
    "        artifact_path=\"HistGradientBoostingRegressor-2\",\n",
    "        signature=signature,\n",
    "        input_example=X_train,\n",
    "        registered_model_name=\"Regression-Task\",\n",
    "    )"
   ]
  },
  {
   "cell_type": "code",
   "execution_count": 44,
   "metadata": {},
   "outputs": [],
   "source": [
    "XGBRegressorParams = {\n",
    "    # \"n_estimators\": [1000, 1500],\n",
    "    \"learning_rate\": [0.1, 0.8, 0.9],\n",
    "    \"subsample\": [0.2, 0.4, 0.6, 0.8, 0.9],\n",
    "    \"booster\": [\"gbtree\", \"gblinear\", \"dart\"],\n",
    "    \"max_depth\": [28, 32],\n",
    "    \"max_leaves\": [28, 32],\n",
    "    \"random_state\": [10, 20, 30, 40, 50],\n",
    "    \"num_parallel_tree\": [5, 6, 7, 8, 9, 10],\n",
    "    \"grow_policy\": [\"depthwise\", \"lossguide\"],\n",
    "    \"reg_alpha\": [0.2, 0.5, 1.0, 1.5, 2.0, 2.5], # L1 regulaization\n",
    "    \"reg_lambda\" : [1, 5, 10, 20, 50], # L2 regulaization\n",
    "    \"gamma\": [0.1, 0.9],\n",
    "    \"importance_type\": [\"gain\", \"weight\", \"cover\", \"total_gain\", \"total_cover\"],\n",
    "    \"gamma\": [5, 10, 15, 20],\n",
    "    \"min_child_weight\": [10, 20, 30, 40, 50],\n",
    "    \"multi_strategy\": [\"one_output_per_tree\", \"multi_output_tree\"],\n",
    "\n",
    "    # \"max_bin\": [100, 155, 255]\n",
    "\n",
    "}"
   ]
  },
  {
   "cell_type": "code",
   "execution_count": 23,
   "metadata": {},
   "outputs": [],
   "source": [
    "import xgboost as xgb"
   ]
  },
  {
   "cell_type": "code",
   "execution_count": 45,
   "metadata": {},
   "outputs": [
    {
     "name": "stderr",
     "output_type": "stream",
     "text": [
      "2024/09/28 09:32:16 WARNING mlflow.utils.autologging_utils: MLflow sklearn autologging is known to be compatible with 0.24.1 <= scikit-learn <= 1.5.1, but the installed version is 1.5.2. If you encounter errors during autologging, try upgrading / downgrading scikit-learn to a compatible version, or try upgrading MLflow.\n"
     ]
    },
    {
     "name": "stdout",
     "output_type": "stream",
     "text": [
      "\u001b[34mSystem information\u001b[0m: Windows 10.0.22631\n",
      "\u001b[34mPython version\u001b[0m: 3.12.5\n",
      "\u001b[34mMLflow version\u001b[0m: 2.16.2\n",
      "\u001b[34mMLflow module location\u001b[0m: C:\\Users\\NavaneethanJeyapraka\\AppData\\Roaming\\Python\\Python312\\site-packages\\mlflow\\__init__.py\n",
      "\u001b[34mTracking URI\u001b[0m: https://dagshub.com/naveenkrishnan840/DS-Singapore-resale-flat-price.mlflow\n",
      "\u001b[34mRegistry URI\u001b[0m: https://dagshub.com/naveenkrishnan840/DS-Singapore-resale-flat-price.mlflow\n",
      "\u001b[34mActive experiment ID\u001b[0m: 0\n",
      "\u001b[34mActive run ID\u001b[0m: fd8d70a4b85e4c868b89c5c9173dfdee\n",
      "\u001b[34mActive run artifact URI\u001b[0m: mlflow-artifacts:/74fe181eba6641f6b5b9dccf6ffb5402/fd8d70a4b85e4c868b89c5c9173dfdee/artifacts\n",
      "\u001b[34mMLflow environment variables\u001b[0m: \n",
      "  MLFLOW_TRACKING_PASSWORD: 6602c43190bbbd93140e6846d47f88777f01baae\n",
      "  MLFLOW_TRACKING_URI: https://dagshub.com/naveenkrishnan840/DS-Singapore-resale-flat-price.mlflow\n",
      "  MLFLOW_TRACKING_USERNAME: 6602c43190bbbd93140e6846d47f88777f01baae\n",
      "\u001b[34mMLflow dependencies\u001b[0m: \n",
      "  Flask: 3.0.3\n",
      "  Jinja2: 3.1.4\n",
      "  alembic: 1.13.2\n",
      "  boto3: 1.35.19\n",
      "  botocore: 1.35.19\n",
      "  docker: 7.1.0\n",
      "  graphene: 3.3\n",
      "  markdown: 3.7\n",
      "  matplotlib: 3.9.2\n",
      "  mlflow-skinny: 2.16.2\n",
      "  numpy: 1.26.4\n",
      "  pandas: 2.2.3\n",
      "  pyarrow: 17.0.0\n",
      "  pydantic: 2.9.1\n",
      "  scikit-learn: 1.5.2\n",
      "  scipy: 1.13.1\n",
      "  sqlalchemy: 2.0.34\n",
      "  waitress: 3.0.0\n",
      "Fitting 25 folds for each of 5 candidates, totalling 125 fits\n"
     ]
    },
    {
     "name": "stderr",
     "output_type": "stream",
     "text": [
      "c:\\Users\\NavaneethanJeyapraka\\anaconda3\\envs\\copper-set\\Lib\\site-packages\\sklearn\\model_selection\\_validation.py:540: FitFailedWarning: \n",
      "25 fits failed out of a total of 125.\n",
      "The score on these train-test partitions for these parameters will be set to nan.\n",
      "If these failures are not expected, you can try to debug them by setting error_score='raise'.\n",
      "\n",
      "Below are more details about the failures:\n",
      "--------------------------------------------------------------------------------\n",
      "1 fits failed with the following error:\n",
      "Traceback (most recent call last):\n",
      "  File \"c:\\Users\\NavaneethanJeyapraka\\anaconda3\\envs\\copper-set\\Lib\\site-packages\\sklearn\\model_selection\\_validation.py\", line 888, in _fit_and_score\n",
      "    estimator.fit(X_train, y_train, **fit_params)\n",
      "  File \"c:\\Users\\NavaneethanJeyapraka\\anaconda3\\envs\\copper-set\\Lib\\site-packages\\xgboost\\core.py\", line 726, in inner_f\n",
      "    return func(**kwargs)\n",
      "           ^^^^^^^^^^^^^^\n",
      "  File \"c:\\Users\\NavaneethanJeyapraka\\anaconda3\\envs\\copper-set\\Lib\\site-packages\\xgboost\\sklearn.py\", line 1108, in fit\n",
      "    self._Booster = train(\n",
      "                    ^^^^^^\n",
      "  File \"c:\\Users\\NavaneethanJeyapraka\\anaconda3\\envs\\copper-set\\Lib\\site-packages\\xgboost\\core.py\", line 726, in inner_f\n",
      "    return func(**kwargs)\n",
      "           ^^^^^^^^^^^^^^\n",
      "  File \"c:\\Users\\NavaneethanJeyapraka\\anaconda3\\envs\\copper-set\\Lib\\site-packages\\xgboost\\training.py\", line 181, in train\n",
      "    bst.update(dtrain, iteration=i, fobj=obj)\n",
      "  File \"c:\\Users\\NavaneethanJeyapraka\\anaconda3\\envs\\copper-set\\Lib\\site-packages\\xgboost\\core.py\", line 2100, in update\n",
      "    _check_call(\n",
      "  File \"c:\\Users\\NavaneethanJeyapraka\\anaconda3\\envs\\copper-set\\Lib\\site-packages\\xgboost\\core.py\", line 284, in _check_call\n",
      "    raise XGBoostError(py_str(_LIB.XGBGetLastError()))\n",
      "xgboost.core.XGBoostError: [10:48:40] C:\\b\\abs_90_bwj_86a\\croot\\xgboost-split_1724073762025\\work\\src\\gbm\\gbtree.cc:745: Check failed: !this->model_.learner_model_param->IsVectorLeaf(): dart support for multi-target tree is not yet implemented.\n",
      "\n",
      "--------------------------------------------------------------------------------\n",
      "2 fits failed with the following error:\n",
      "Traceback (most recent call last):\n",
      "  File \"c:\\Users\\NavaneethanJeyapraka\\anaconda3\\envs\\copper-set\\Lib\\site-packages\\sklearn\\model_selection\\_validation.py\", line 888, in _fit_and_score\n",
      "    estimator.fit(X_train, y_train, **fit_params)\n",
      "  File \"c:\\Users\\NavaneethanJeyapraka\\anaconda3\\envs\\copper-set\\Lib\\site-packages\\xgboost\\core.py\", line 726, in inner_f\n",
      "    return func(**kwargs)\n",
      "           ^^^^^^^^^^^^^^\n",
      "  File \"c:\\Users\\NavaneethanJeyapraka\\anaconda3\\envs\\copper-set\\Lib\\site-packages\\xgboost\\sklearn.py\", line 1108, in fit\n",
      "    self._Booster = train(\n",
      "                    ^^^^^^\n",
      "  File \"c:\\Users\\NavaneethanJeyapraka\\anaconda3\\envs\\copper-set\\Lib\\site-packages\\xgboost\\core.py\", line 726, in inner_f\n",
      "    return func(**kwargs)\n",
      "           ^^^^^^^^^^^^^^\n",
      "  File \"c:\\Users\\NavaneethanJeyapraka\\anaconda3\\envs\\copper-set\\Lib\\site-packages\\xgboost\\training.py\", line 181, in train\n",
      "    bst.update(dtrain, iteration=i, fobj=obj)\n",
      "  File \"c:\\Users\\NavaneethanJeyapraka\\anaconda3\\envs\\copper-set\\Lib\\site-packages\\xgboost\\core.py\", line 2100, in update\n",
      "    _check_call(\n",
      "  File \"c:\\Users\\NavaneethanJeyapraka\\anaconda3\\envs\\copper-set\\Lib\\site-packages\\xgboost\\core.py\", line 284, in _check_call\n",
      "    raise XGBoostError(py_str(_LIB.XGBGetLastError()))\n",
      "xgboost.core.XGBoostError: [10:48:42] C:\\b\\abs_90_bwj_86a\\croot\\xgboost-split_1724073762025\\work\\src\\gbm\\gbtree.cc:745: Check failed: !this->model_.learner_model_param->IsVectorLeaf(): dart support for multi-target tree is not yet implemented.\n",
      "\n",
      "--------------------------------------------------------------------------------\n",
      "2 fits failed with the following error:\n",
      "Traceback (most recent call last):\n",
      "  File \"c:\\Users\\NavaneethanJeyapraka\\anaconda3\\envs\\copper-set\\Lib\\site-packages\\sklearn\\model_selection\\_validation.py\", line 888, in _fit_and_score\n",
      "    estimator.fit(X_train, y_train, **fit_params)\n",
      "  File \"c:\\Users\\NavaneethanJeyapraka\\anaconda3\\envs\\copper-set\\Lib\\site-packages\\xgboost\\core.py\", line 726, in inner_f\n",
      "    return func(**kwargs)\n",
      "           ^^^^^^^^^^^^^^\n",
      "  File \"c:\\Users\\NavaneethanJeyapraka\\anaconda3\\envs\\copper-set\\Lib\\site-packages\\xgboost\\sklearn.py\", line 1108, in fit\n",
      "    self._Booster = train(\n",
      "                    ^^^^^^\n",
      "  File \"c:\\Users\\NavaneethanJeyapraka\\anaconda3\\envs\\copper-set\\Lib\\site-packages\\xgboost\\core.py\", line 726, in inner_f\n",
      "    return func(**kwargs)\n",
      "           ^^^^^^^^^^^^^^\n",
      "  File \"c:\\Users\\NavaneethanJeyapraka\\anaconda3\\envs\\copper-set\\Lib\\site-packages\\xgboost\\training.py\", line 181, in train\n",
      "    bst.update(dtrain, iteration=i, fobj=obj)\n",
      "  File \"c:\\Users\\NavaneethanJeyapraka\\anaconda3\\envs\\copper-set\\Lib\\site-packages\\xgboost\\core.py\", line 2100, in update\n",
      "    _check_call(\n",
      "  File \"c:\\Users\\NavaneethanJeyapraka\\anaconda3\\envs\\copper-set\\Lib\\site-packages\\xgboost\\core.py\", line 284, in _check_call\n",
      "    raise XGBoostError(py_str(_LIB.XGBGetLastError()))\n",
      "xgboost.core.XGBoostError: [10:48:43] C:\\b\\abs_90_bwj_86a\\croot\\xgboost-split_1724073762025\\work\\src\\gbm\\gbtree.cc:745: Check failed: !this->model_.learner_model_param->IsVectorLeaf(): dart support for multi-target tree is not yet implemented.\n",
      "\n",
      "--------------------------------------------------------------------------------\n",
      "2 fits failed with the following error:\n",
      "Traceback (most recent call last):\n",
      "  File \"c:\\Users\\NavaneethanJeyapraka\\anaconda3\\envs\\copper-set\\Lib\\site-packages\\sklearn\\model_selection\\_validation.py\", line 888, in _fit_and_score\n",
      "    estimator.fit(X_train, y_train, **fit_params)\n",
      "  File \"c:\\Users\\NavaneethanJeyapraka\\anaconda3\\envs\\copper-set\\Lib\\site-packages\\xgboost\\core.py\", line 726, in inner_f\n",
      "    return func(**kwargs)\n",
      "           ^^^^^^^^^^^^^^\n",
      "  File \"c:\\Users\\NavaneethanJeyapraka\\anaconda3\\envs\\copper-set\\Lib\\site-packages\\xgboost\\sklearn.py\", line 1108, in fit\n",
      "    self._Booster = train(\n",
      "                    ^^^^^^\n",
      "  File \"c:\\Users\\NavaneethanJeyapraka\\anaconda3\\envs\\copper-set\\Lib\\site-packages\\xgboost\\core.py\", line 726, in inner_f\n",
      "    return func(**kwargs)\n",
      "           ^^^^^^^^^^^^^^\n",
      "  File \"c:\\Users\\NavaneethanJeyapraka\\anaconda3\\envs\\copper-set\\Lib\\site-packages\\xgboost\\training.py\", line 181, in train\n",
      "    bst.update(dtrain, iteration=i, fobj=obj)\n",
      "  File \"c:\\Users\\NavaneethanJeyapraka\\anaconda3\\envs\\copper-set\\Lib\\site-packages\\xgboost\\core.py\", line 2100, in update\n",
      "    _check_call(\n",
      "  File \"c:\\Users\\NavaneethanJeyapraka\\anaconda3\\envs\\copper-set\\Lib\\site-packages\\xgboost\\core.py\", line 284, in _check_call\n",
      "    raise XGBoostError(py_str(_LIB.XGBGetLastError()))\n",
      "xgboost.core.XGBoostError: [10:48:44] C:\\b\\abs_90_bwj_86a\\croot\\xgboost-split_1724073762025\\work\\src\\gbm\\gbtree.cc:745: Check failed: !this->model_.learner_model_param->IsVectorLeaf(): dart support for multi-target tree is not yet implemented.\n",
      "\n",
      "--------------------------------------------------------------------------------\n",
      "2 fits failed with the following error:\n",
      "Traceback (most recent call last):\n",
      "  File \"c:\\Users\\NavaneethanJeyapraka\\anaconda3\\envs\\copper-set\\Lib\\site-packages\\sklearn\\model_selection\\_validation.py\", line 888, in _fit_and_score\n",
      "    estimator.fit(X_train, y_train, **fit_params)\n",
      "  File \"c:\\Users\\NavaneethanJeyapraka\\anaconda3\\envs\\copper-set\\Lib\\site-packages\\xgboost\\core.py\", line 726, in inner_f\n",
      "    return func(**kwargs)\n",
      "           ^^^^^^^^^^^^^^\n",
      "  File \"c:\\Users\\NavaneethanJeyapraka\\anaconda3\\envs\\copper-set\\Lib\\site-packages\\xgboost\\sklearn.py\", line 1108, in fit\n",
      "    self._Booster = train(\n",
      "                    ^^^^^^\n",
      "  File \"c:\\Users\\NavaneethanJeyapraka\\anaconda3\\envs\\copper-set\\Lib\\site-packages\\xgboost\\core.py\", line 726, in inner_f\n",
      "    return func(**kwargs)\n",
      "           ^^^^^^^^^^^^^^\n",
      "  File \"c:\\Users\\NavaneethanJeyapraka\\anaconda3\\envs\\copper-set\\Lib\\site-packages\\xgboost\\training.py\", line 181, in train\n",
      "    bst.update(dtrain, iteration=i, fobj=obj)\n",
      "  File \"c:\\Users\\NavaneethanJeyapraka\\anaconda3\\envs\\copper-set\\Lib\\site-packages\\xgboost\\core.py\", line 2100, in update\n",
      "    _check_call(\n",
      "  File \"c:\\Users\\NavaneethanJeyapraka\\anaconda3\\envs\\copper-set\\Lib\\site-packages\\xgboost\\core.py\", line 284, in _check_call\n",
      "    raise XGBoostError(py_str(_LIB.XGBGetLastError()))\n",
      "xgboost.core.XGBoostError: [10:48:45] C:\\b\\abs_90_bwj_86a\\croot\\xgboost-split_1724073762025\\work\\src\\gbm\\gbtree.cc:745: Check failed: !this->model_.learner_model_param->IsVectorLeaf(): dart support for multi-target tree is not yet implemented.\n",
      "\n",
      "--------------------------------------------------------------------------------\n",
      "3 fits failed with the following error:\n",
      "Traceback (most recent call last):\n",
      "  File \"c:\\Users\\NavaneethanJeyapraka\\anaconda3\\envs\\copper-set\\Lib\\site-packages\\sklearn\\model_selection\\_validation.py\", line 888, in _fit_and_score\n",
      "    estimator.fit(X_train, y_train, **fit_params)\n",
      "  File \"c:\\Users\\NavaneethanJeyapraka\\anaconda3\\envs\\copper-set\\Lib\\site-packages\\xgboost\\core.py\", line 726, in inner_f\n",
      "    return func(**kwargs)\n",
      "           ^^^^^^^^^^^^^^\n",
      "  File \"c:\\Users\\NavaneethanJeyapraka\\anaconda3\\envs\\copper-set\\Lib\\site-packages\\xgboost\\sklearn.py\", line 1108, in fit\n",
      "    self._Booster = train(\n",
      "                    ^^^^^^\n",
      "  File \"c:\\Users\\NavaneethanJeyapraka\\anaconda3\\envs\\copper-set\\Lib\\site-packages\\xgboost\\core.py\", line 726, in inner_f\n",
      "    return func(**kwargs)\n",
      "           ^^^^^^^^^^^^^^\n",
      "  File \"c:\\Users\\NavaneethanJeyapraka\\anaconda3\\envs\\copper-set\\Lib\\site-packages\\xgboost\\training.py\", line 181, in train\n",
      "    bst.update(dtrain, iteration=i, fobj=obj)\n",
      "  File \"c:\\Users\\NavaneethanJeyapraka\\anaconda3\\envs\\copper-set\\Lib\\site-packages\\xgboost\\core.py\", line 2100, in update\n",
      "    _check_call(\n",
      "  File \"c:\\Users\\NavaneethanJeyapraka\\anaconda3\\envs\\copper-set\\Lib\\site-packages\\xgboost\\core.py\", line 284, in _check_call\n",
      "    raise XGBoostError(py_str(_LIB.XGBGetLastError()))\n",
      "xgboost.core.XGBoostError: [10:48:46] C:\\b\\abs_90_bwj_86a\\croot\\xgboost-split_1724073762025\\work\\src\\gbm\\gbtree.cc:745: Check failed: !this->model_.learner_model_param->IsVectorLeaf(): dart support for multi-target tree is not yet implemented.\n",
      "\n",
      "--------------------------------------------------------------------------------\n",
      "2 fits failed with the following error:\n",
      "Traceback (most recent call last):\n",
      "  File \"c:\\Users\\NavaneethanJeyapraka\\anaconda3\\envs\\copper-set\\Lib\\site-packages\\sklearn\\model_selection\\_validation.py\", line 888, in _fit_and_score\n",
      "    estimator.fit(X_train, y_train, **fit_params)\n",
      "  File \"c:\\Users\\NavaneethanJeyapraka\\anaconda3\\envs\\copper-set\\Lib\\site-packages\\xgboost\\core.py\", line 726, in inner_f\n",
      "    return func(**kwargs)\n",
      "           ^^^^^^^^^^^^^^\n",
      "  File \"c:\\Users\\NavaneethanJeyapraka\\anaconda3\\envs\\copper-set\\Lib\\site-packages\\xgboost\\sklearn.py\", line 1108, in fit\n",
      "    self._Booster = train(\n",
      "                    ^^^^^^\n",
      "  File \"c:\\Users\\NavaneethanJeyapraka\\anaconda3\\envs\\copper-set\\Lib\\site-packages\\xgboost\\core.py\", line 726, in inner_f\n",
      "    return func(**kwargs)\n",
      "           ^^^^^^^^^^^^^^\n",
      "  File \"c:\\Users\\NavaneethanJeyapraka\\anaconda3\\envs\\copper-set\\Lib\\site-packages\\xgboost\\training.py\", line 181, in train\n",
      "    bst.update(dtrain, iteration=i, fobj=obj)\n",
      "  File \"c:\\Users\\NavaneethanJeyapraka\\anaconda3\\envs\\copper-set\\Lib\\site-packages\\xgboost\\core.py\", line 2100, in update\n",
      "    _check_call(\n",
      "  File \"c:\\Users\\NavaneethanJeyapraka\\anaconda3\\envs\\copper-set\\Lib\\site-packages\\xgboost\\core.py\", line 284, in _check_call\n",
      "    raise XGBoostError(py_str(_LIB.XGBGetLastError()))\n",
      "xgboost.core.XGBoostError: [10:48:47] C:\\b\\abs_90_bwj_86a\\croot\\xgboost-split_1724073762025\\work\\src\\gbm\\gbtree.cc:745: Check failed: !this->model_.learner_model_param->IsVectorLeaf(): dart support for multi-target tree is not yet implemented.\n",
      "\n",
      "--------------------------------------------------------------------------------\n",
      "2 fits failed with the following error:\n",
      "Traceback (most recent call last):\n",
      "  File \"c:\\Users\\NavaneethanJeyapraka\\anaconda3\\envs\\copper-set\\Lib\\site-packages\\sklearn\\model_selection\\_validation.py\", line 888, in _fit_and_score\n",
      "    estimator.fit(X_train, y_train, **fit_params)\n",
      "  File \"c:\\Users\\NavaneethanJeyapraka\\anaconda3\\envs\\copper-set\\Lib\\site-packages\\xgboost\\core.py\", line 726, in inner_f\n",
      "    return func(**kwargs)\n",
      "           ^^^^^^^^^^^^^^\n",
      "  File \"c:\\Users\\NavaneethanJeyapraka\\anaconda3\\envs\\copper-set\\Lib\\site-packages\\xgboost\\sklearn.py\", line 1108, in fit\n",
      "    self._Booster = train(\n",
      "                    ^^^^^^\n",
      "  File \"c:\\Users\\NavaneethanJeyapraka\\anaconda3\\envs\\copper-set\\Lib\\site-packages\\xgboost\\core.py\", line 726, in inner_f\n",
      "    return func(**kwargs)\n",
      "           ^^^^^^^^^^^^^^\n",
      "  File \"c:\\Users\\NavaneethanJeyapraka\\anaconda3\\envs\\copper-set\\Lib\\site-packages\\xgboost\\training.py\", line 181, in train\n",
      "    bst.update(dtrain, iteration=i, fobj=obj)\n",
      "  File \"c:\\Users\\NavaneethanJeyapraka\\anaconda3\\envs\\copper-set\\Lib\\site-packages\\xgboost\\core.py\", line 2100, in update\n",
      "    _check_call(\n",
      "  File \"c:\\Users\\NavaneethanJeyapraka\\anaconda3\\envs\\copper-set\\Lib\\site-packages\\xgboost\\core.py\", line 284, in _check_call\n",
      "    raise XGBoostError(py_str(_LIB.XGBGetLastError()))\n",
      "xgboost.core.XGBoostError: [10:48:48] C:\\b\\abs_90_bwj_86a\\croot\\xgboost-split_1724073762025\\work\\src\\gbm\\gbtree.cc:745: Check failed: !this->model_.learner_model_param->IsVectorLeaf(): dart support for multi-target tree is not yet implemented.\n",
      "\n",
      "--------------------------------------------------------------------------------\n",
      "3 fits failed with the following error:\n",
      "Traceback (most recent call last):\n",
      "  File \"c:\\Users\\NavaneethanJeyapraka\\anaconda3\\envs\\copper-set\\Lib\\site-packages\\sklearn\\model_selection\\_validation.py\", line 888, in _fit_and_score\n",
      "    estimator.fit(X_train, y_train, **fit_params)\n",
      "  File \"c:\\Users\\NavaneethanJeyapraka\\anaconda3\\envs\\copper-set\\Lib\\site-packages\\xgboost\\core.py\", line 726, in inner_f\n",
      "    return func(**kwargs)\n",
      "           ^^^^^^^^^^^^^^\n",
      "  File \"c:\\Users\\NavaneethanJeyapraka\\anaconda3\\envs\\copper-set\\Lib\\site-packages\\xgboost\\sklearn.py\", line 1108, in fit\n",
      "    self._Booster = train(\n",
      "                    ^^^^^^\n",
      "  File \"c:\\Users\\NavaneethanJeyapraka\\anaconda3\\envs\\copper-set\\Lib\\site-packages\\xgboost\\core.py\", line 726, in inner_f\n",
      "    return func(**kwargs)\n",
      "           ^^^^^^^^^^^^^^\n",
      "  File \"c:\\Users\\NavaneethanJeyapraka\\anaconda3\\envs\\copper-set\\Lib\\site-packages\\xgboost\\training.py\", line 181, in train\n",
      "    bst.update(dtrain, iteration=i, fobj=obj)\n",
      "  File \"c:\\Users\\NavaneethanJeyapraka\\anaconda3\\envs\\copper-set\\Lib\\site-packages\\xgboost\\core.py\", line 2100, in update\n",
      "    _check_call(\n",
      "  File \"c:\\Users\\NavaneethanJeyapraka\\anaconda3\\envs\\copper-set\\Lib\\site-packages\\xgboost\\core.py\", line 284, in _check_call\n",
      "    raise XGBoostError(py_str(_LIB.XGBGetLastError()))\n",
      "xgboost.core.XGBoostError: [10:48:49] C:\\b\\abs_90_bwj_86a\\croot\\xgboost-split_1724073762025\\work\\src\\gbm\\gbtree.cc:745: Check failed: !this->model_.learner_model_param->IsVectorLeaf(): dart support for multi-target tree is not yet implemented.\n",
      "\n",
      "--------------------------------------------------------------------------------\n",
      "4 fits failed with the following error:\n",
      "Traceback (most recent call last):\n",
      "  File \"c:\\Users\\NavaneethanJeyapraka\\anaconda3\\envs\\copper-set\\Lib\\site-packages\\sklearn\\model_selection\\_validation.py\", line 888, in _fit_and_score\n",
      "    estimator.fit(X_train, y_train, **fit_params)\n",
      "  File \"c:\\Users\\NavaneethanJeyapraka\\anaconda3\\envs\\copper-set\\Lib\\site-packages\\xgboost\\core.py\", line 726, in inner_f\n",
      "    return func(**kwargs)\n",
      "           ^^^^^^^^^^^^^^\n",
      "  File \"c:\\Users\\NavaneethanJeyapraka\\anaconda3\\envs\\copper-set\\Lib\\site-packages\\xgboost\\sklearn.py\", line 1108, in fit\n",
      "    self._Booster = train(\n",
      "                    ^^^^^^\n",
      "  File \"c:\\Users\\NavaneethanJeyapraka\\anaconda3\\envs\\copper-set\\Lib\\site-packages\\xgboost\\core.py\", line 726, in inner_f\n",
      "    return func(**kwargs)\n",
      "           ^^^^^^^^^^^^^^\n",
      "  File \"c:\\Users\\NavaneethanJeyapraka\\anaconda3\\envs\\copper-set\\Lib\\site-packages\\xgboost\\training.py\", line 181, in train\n",
      "    bst.update(dtrain, iteration=i, fobj=obj)\n",
      "  File \"c:\\Users\\NavaneethanJeyapraka\\anaconda3\\envs\\copper-set\\Lib\\site-packages\\xgboost\\core.py\", line 2100, in update\n",
      "    _check_call(\n",
      "  File \"c:\\Users\\NavaneethanJeyapraka\\anaconda3\\envs\\copper-set\\Lib\\site-packages\\xgboost\\core.py\", line 284, in _check_call\n",
      "    raise XGBoostError(py_str(_LIB.XGBGetLastError()))\n",
      "xgboost.core.XGBoostError: [10:48:50] C:\\b\\abs_90_bwj_86a\\croot\\xgboost-split_1724073762025\\work\\src\\gbm\\gbtree.cc:745: Check failed: !this->model_.learner_model_param->IsVectorLeaf(): dart support for multi-target tree is not yet implemented.\n",
      "\n",
      "--------------------------------------------------------------------------------\n",
      "2 fits failed with the following error:\n",
      "Traceback (most recent call last):\n",
      "  File \"c:\\Users\\NavaneethanJeyapraka\\anaconda3\\envs\\copper-set\\Lib\\site-packages\\sklearn\\model_selection\\_validation.py\", line 888, in _fit_and_score\n",
      "    estimator.fit(X_train, y_train, **fit_params)\n",
      "  File \"c:\\Users\\NavaneethanJeyapraka\\anaconda3\\envs\\copper-set\\Lib\\site-packages\\xgboost\\core.py\", line 726, in inner_f\n",
      "    return func(**kwargs)\n",
      "           ^^^^^^^^^^^^^^\n",
      "  File \"c:\\Users\\NavaneethanJeyapraka\\anaconda3\\envs\\copper-set\\Lib\\site-packages\\xgboost\\sklearn.py\", line 1108, in fit\n",
      "    self._Booster = train(\n",
      "                    ^^^^^^\n",
      "  File \"c:\\Users\\NavaneethanJeyapraka\\anaconda3\\envs\\copper-set\\Lib\\site-packages\\xgboost\\core.py\", line 726, in inner_f\n",
      "    return func(**kwargs)\n",
      "           ^^^^^^^^^^^^^^\n",
      "  File \"c:\\Users\\NavaneethanJeyapraka\\anaconda3\\envs\\copper-set\\Lib\\site-packages\\xgboost\\training.py\", line 181, in train\n",
      "    bst.update(dtrain, iteration=i, fobj=obj)\n",
      "  File \"c:\\Users\\NavaneethanJeyapraka\\anaconda3\\envs\\copper-set\\Lib\\site-packages\\xgboost\\core.py\", line 2100, in update\n",
      "    _check_call(\n",
      "  File \"c:\\Users\\NavaneethanJeyapraka\\anaconda3\\envs\\copper-set\\Lib\\site-packages\\xgboost\\core.py\", line 284, in _check_call\n",
      "    raise XGBoostError(py_str(_LIB.XGBGetLastError()))\n",
      "xgboost.core.XGBoostError: [10:48:51] C:\\b\\abs_90_bwj_86a\\croot\\xgboost-split_1724073762025\\work\\src\\gbm\\gbtree.cc:745: Check failed: !this->model_.learner_model_param->IsVectorLeaf(): dart support for multi-target tree is not yet implemented.\n",
      "\n",
      "  warnings.warn(some_fits_failed_message, FitFailedWarning)\n",
      "c:\\Users\\NavaneethanJeyapraka\\anaconda3\\envs\\copper-set\\Lib\\site-packages\\sklearn\\model_selection\\_search.py:1103: UserWarning: One or more of the test scores are non-finite: [0.86387534 0.85912545 0.91639349 0.90654321        nan]\n",
      "  warnings.warn(\n"
     ]
    },
    {
     "name": "stdout",
     "output_type": "stream",
     "text": [
      "[10:55:34] ======== Monitor (0): HostSketchContainer ========\n",
      "[10:55:34] AllReduce: 0.005472s, 1 calls @ 5472us\n",
      "\n",
      "[10:55:34] MakeCuts: 0.006544s, 1 calls @ 6544us\n",
      "\n",
      "[10:55:34] DEBUG: C:\\b\\abs_90_bwj_86a\\croot\\xgboost-split_1724073762025\\work\\src\\gbm\\gbtree.cc:130: Using tree method: 3\n",
      "[10:58:59] ======== Monitor (0): Learner ========\n",
      "[10:58:59] Configure: 0.003428s, 1 calls @ 3428us\n",
      "\n",
      "[10:58:59] EvalOneIter: 0.010719s, 800 calls @ 10719us\n",
      "\n",
      "[10:58:59] GetGradient: 2.30643s, 800 calls @ 2306433us\n",
      "\n",
      "[10:58:59] PredictRaw: 44.534s, 800 calls @ 44533959us\n",
      "\n",
      "[10:58:59] UpdateOneIter: 204.868s, 800 calls @ 204868255us\n",
      "\n",
      "[10:58:59] ======== Monitor (0): GBTree ========\n",
      "[10:58:59] BoostNewTrees: 158.011s, 800 calls @ 158010664us\n",
      "\n",
      "[10:58:59] CommitModel: 0.006743s, 800 calls @ 6743us\n",
      "\n",
      "[10:58:59] ======== Monitor (0): HistUpdater ========\n",
      "[10:58:59] BuildHistogram: 33.5163s, 192000 calls @ 33516326us\n",
      "\n",
      "[10:58:59] EvaluateSplits: 11.9645s, 198400 calls @ 11964536us\n",
      "\n",
      "[10:58:59] InitData: 10.9592s, 6400 calls @ 10959217us\n",
      "\n",
      "[10:58:59] InitRoot: 18.2297s, 6400 calls @ 18229653us\n",
      "\n",
      "[10:58:59] LeafPartition: 0.00153s, 6400 calls @ 1530us\n",
      "\n",
      "[10:58:59] UpdatePosition: 28.8938s, 198400 calls @ 28893778us\n",
      "\n",
      "[10:58:59] UpdateTree: 104.068s, 6400 calls @ 104067812us\n",
      "\n",
      "[10:59:00] DEBUG: C:\\b\\abs_90_bwj_86a\\croot\\xgboost-split_1724073762025\\work\\src\\gbm\\gbtree.cc:130: Using tree method: 3\n"
     ]
    },
    {
     "name": "stderr",
     "output_type": "stream",
     "text": [
      "2024/09/28 11:01:43 INFO mlflow.sklearn.utils: Logging the 5 best runs, no runs will be omitted.\n",
      "Registered model 'Regression-Task' already exists. Creating a new version of this model...\n",
      "2024/09/28 11:06:50 INFO mlflow.store.model_registry.abstract_store: Waiting up to 300 seconds for model version to finish creation. Model name: Regression-Task, version 4\n",
      "Created version '4' of model 'Regression-Task'.\n"
     ]
    },
    {
     "data": {
      "application/vnd.jupyter.widget-view+json": {
       "model_id": "32ae14600a02468cb39dd3208e4d6443",
       "version_major": 2,
       "version_minor": 0
      },
      "text/plain": [
       "Downloading artifacts:   0%|          | 0/7 [00:00<?, ?it/s]"
      ]
     },
     "metadata": {},
     "output_type": "display_data"
    },
    {
     "name": "stdout",
     "output_type": "stream",
     "text": [
      "[11:07:35] DEBUG: C:\\b\\abs_90_bwj_86a\\croot\\xgboost-split_1724073762025\\work\\src\\gbm\\gbtree.cc:130: Using tree method: 3\n"
     ]
    },
    {
     "name": "stderr",
     "output_type": "stream",
     "text": [
      "2024/09/28 11:08:03 INFO mlflow.tracking._tracking_service.client: 🏃 View run XGBRegressor-2 at: https://dagshub.com/naveenkrishnan840/DS-Singapore-resale-flat-price.mlflow/#/experiments/0/runs/fd8d70a4b85e4c868b89c5c9173dfdee.\n",
      "2024/09/28 11:08:03 INFO mlflow.tracking._tracking_service.client: 🧪 View experiment at: https://dagshub.com/naveenkrishnan840/DS-Singapore-resale-flat-price.mlflow/#/experiments/0.\n"
     ]
    }
   ],
   "source": [
    "with mlflow.start_run(experiment_id=\"0\", run_name=\"XGBRegressor-2\") as run_2:\n",
    "    mlflow.sklearn.autolog()\n",
    "    mlflow.doctor()\n",
    "    XGBRegressorModel = xgb.XGBRegressor(n_estimators=800, base_score=503417.1593060477, objective=\"reg:squarederror\", verbosity=3, booster=\"dart\", tree_method=\"hist\")\n",
    "    XGBRegressorModel_cv = RandomizedSearchCV(estimator=XGBRegressorModel, param_distributions=XGBRegressorParams, verbose=3, n_jobs=-1, \n",
    "                    cv=KFold(n_splits=25, shuffle=True, random_state=None), random_state=99, n_iter=5)\n",
    "    XGBRegressorModel_cv.fit(X_train, y_train)\n",
    "    y_pred = XGBRegressorModel_cv.predict(X_test)\n",
    "    mlflow.log_metric(\"testing_mean_squared_error\", mean_squared_error(y_true=y_test, y_pred=y_pred))\n",
    "    mlflow.log_metric(\"testing_mean_absolute_error\", mean_absolute_error(y_true=y_test, y_pred=y_pred))\n",
    "    # mlflow.log_metric(\"testing_root_mean_squared_error\", root_mean_squared_error(y_true=y_test, y_pred=y_pred))\n",
    "    mlflow.log_metric(\"testing_r2_score\", r2_score(y_true=y_test, y_pred=y_pred))\n",
    "\n",
    "    signature = infer_signature(X_test, y_pred)\n",
    "\n",
    "    # # Log the model\n",
    "    model_info = mlflow.sklearn.log_model(\n",
    "        sk_model=XGBRegressorModel_cv,\n",
    "        artifact_path=\"XGBRegressor-2\",\n",
    "        signature=signature,\n",
    "        input_example=X_train,\n",
    "        registered_model_name=\"Regression-Task\",\n",
    "    )"
   ]
  }
 ],
 "metadata": {
  "kernelspec": {
   "display_name": "copper-set",
   "language": "python",
   "name": "python3"
  },
  "language_info": {
   "codemirror_mode": {
    "name": "ipython",
    "version": 3
   },
   "file_extension": ".py",
   "mimetype": "text/x-python",
   "name": "python",
   "nbconvert_exporter": "python",
   "pygments_lexer": "ipython3",
   "version": "3.12.5"
  }
 },
 "nbformat": 4,
 "nbformat_minor": 2
}
